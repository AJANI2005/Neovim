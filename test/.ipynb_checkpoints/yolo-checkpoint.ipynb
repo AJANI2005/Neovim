{
 "cells": [
  {
   "cell_type": "code",
   "execution_count": null,
   "id": "fd38fa0a-d394-4f07-b385-472dd9dd7a07",
   "metadata": {},
   "outputs": [],
   "source": [
    "sfsfsfsf"
   ]
  }
 ],
 "metadata": {
  "kernelspec": {
   "display_name": "Python 3 (ipykernel)",
   "language": "python",
   "name": "python3"
  },
  "language_info": {
   "codemirror_mode": {
    "name": "ipython",
    "version": 3
   },
   "file_extension": ".py",
   "mimetype": "text/x-python",
   "name": "python",
   "nbconvert_exporter": "python",
   "pygments_lexer": "ipython3",
   "version": "3.10.18"
  }
 },
 "nbformat": 4,
 "nbformat_minor": 5
}
